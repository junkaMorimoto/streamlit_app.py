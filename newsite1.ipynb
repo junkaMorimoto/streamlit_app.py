{
  "nbformat": 4,
  "nbformat_minor": 0,
  "metadata": {
    "colab": {
      "provenance": [],
      "mount_file_id": "16iVs1oeEV9JU0mnPWnOY78zcdaj9y83-",
      "authorship_tag": "ABX9TyOKnmQPbuB0DxGvacQWYtaT",
      "include_colab_link": true
    },
    "kernelspec": {
      "name": "python3",
      "display_name": "Python 3"
    },
    "language_info": {
      "name": "python"
    }
  },
  "cells": [
    {
      "cell_type": "markdown",
      "metadata": {
        "id": "view-in-github",
        "colab_type": "text"
      },
      "source": [
        "<a href=\"https://colab.research.google.com/github/junkaMorimoto/testtest/blob/main/newsite1.ipynb\" target=\"_parent\"><img src=\"https://colab.research.google.com/assets/colab-badge.svg\" alt=\"Open In Colab\"/></a>"
      ]
    },
    {
      "cell_type": "code",
      "execution_count": 31,
      "metadata": {
        "id": "DHO0hv9n67UG"
      },
      "outputs": [],
      "source": [
        "!pip install streamlit==1.7.0 --quiet"
      ]
    },
    {
      "cell_type": "code",
      "source": [
        "#%%writefile app.py\n",
        "#以下をapp.pyファイルに書き込む\n",
        "\n",
        "import streamlit as st\n",
        "st.title(\"こんにちは\")"
      ],
      "metadata": {
        "colab": {
          "base_uri": "https://localhost:8080/"
        },
        "id": "7oHwn4vU7Mes",
        "outputId": "a9d845e6-137b-41c0-bdb6-db8eb936421f"
      },
      "execution_count": 32,
      "outputs": [
        {
          "output_type": "execute_result",
          "data": {
            "text/plain": [
              "DeltaGenerator(_root_container=0, _provided_cursor=None, _parent=None, _block_type=None, _form_data=None)"
            ]
          },
          "metadata": {},
          "execution_count": 32
        }
      ]
    },
    {
      "cell_type": "code",
      "source": [],
      "metadata": {
        "colab": {
          "base_uri": "https://localhost:8080/"
        },
        "id": "91Cd_fLlvPax",
        "outputId": "b7568dbf-ff3a-4af9-c89e-d1e0614ab5dc"
      },
      "execution_count": 35,
      "outputs": [
        {
          "output_type": "stream",
          "name": "stdout",
          "text": [
            "[Errno 2] No such file or directory: '/content/drive/My Drive/Colabdata/'\n",
            "/content\n",
            "Cloning into 'reponame'...\n",
            "remote: Not Found\n",
            "fatal: repository 'https://github.com/reponame.git/' not found\n"
          ]
        }
      ]
    }
  ]
}